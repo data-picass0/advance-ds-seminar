{
 "cells": [
  {
   "cell_type": "code",
   "execution_count": 14,
   "metadata": {},
   "outputs": [],
   "source": [
    "instruction_templates = [\n",
    "    \"Explain the cultural heritage and traditions of USA.\",\n",
    "    \"Describe the political system and governance in USA.\",\n",
    "    \"Discuss the major historical events that shaped USA's identity.\",\n",
    "    \"Explain the impact of religion and spirituality in USA society.\",\n",
    "    \"Discuss the diversity of languages and regional cultures in USA.\",\n",
    "    \"Describe the contributions ofUSA to science, mathematics, and philosophy.\",\n",
    "    \"Explain the economic growth and development of USA in recent decades.\",\n",
    "    \"Discuss the social issues and challenges faced by contemporary USA.\",\n",
    "    \"Describe the geographical features and natural beauty of USA.\",\n",
    "    \"Explain the significance of festivals and celebrations in USA culture.\"\n",
    "]\n",
    "\n",
    "question_templates = [\n",
    "    \"What are the main religions practiced in USA?\",\n",
    "    \"How has USA cuisine influenced global culinary traditions?\",\n",
    "    \"What are some famous historical monuments and landmarks in USA?\",\n",
    "    \"How does the caste system impact USA society?\",\n",
    "    \"What are the major industries and sectors driving the USA economy?\",\n",
    "    \"What are the different forms of traditional USA performing arts?\",\n",
    "    \"What are the main tourist attractions in different regions of USA?\",\n",
    "    \"How does the education system function in USA?\",\n",
    "    \"What are the current environmental challenges faced by USA?\",\n",
    "    \"What is the role of Hollywood in USA cinema?\"\n",
    "]"
   ]
  },
  {
   "cell_type": "code",
   "execution_count": 15,
   "metadata": {},
   "outputs": [],
   "source": [
    "prompts = []\n",
    "prompts.extend(instruction_templates)\n",
    "prompts.extend(question_templates)"
   ]
  },
  {
   "cell_type": "code",
   "execution_count": 3,
   "metadata": {},
   "outputs": [],
   "source": [
    "import wikipediaapi"
   ]
  },
  {
   "cell_type": "code",
   "execution_count": 4,
   "metadata": {},
   "outputs": [],
   "source": [
    "# Instantiate the Wikipedia API\n",
    "wiki = wikipediaapi.Wikipedia('en')"
   ]
  },
  {
   "cell_type": "code",
   "execution_count": 5,
   "metadata": {},
   "outputs": [],
   "source": [
    "# Define a function to generate prompts and questions\n",
    "def generate_self_instruct_data(page_title):\n",
    "    page = wiki.page(page_title)\n",
    "    prompts = []\n",
    "    \n",
    "    # Generate prompts from instruction templates\n",
    "    for template in instruction_templates:\n",
    "        prompt = template.replace(\"[property]\", \"the content\").replace(\"[subject]\", page_title)\n",
    "        prompt = prompt.replace(\"[domain/field]\", \"[domain/field_placeholder]\")\n",
    "        prompt = prompt.replace(\"[region/country]\", \"[region/country_placeholder]\")\n",
    "        prompt = prompt.replace(\"[industry/sector]\", \"[industry/sector_placeholder]\")\n",
    "        prompts.append(prompt)\n",
    "        \n",
    "        # Add additional variations to the prompts\n",
    "        variations = [\n",
    "            prompt.replace(\"[domain/field_placeholder]\", \"economics\").replace(\"[region/country_placeholder]\", \"India\").replace(\"[industry/sector_placeholder]\", \"technology\"),\n",
    "            prompt.replace(\"[domain/field_placeholder]\", \"politics\").replace(\"[region/country_placeholder]\", \"Asia\").replace(\"[industry/sector_placeholder]\", \"manufacturing\"),\n",
    "            # Add more variations as needed\n",
    "        ]\n",
    "        prompts.extend(variations)\n",
    "    \n",
    "    # Generate questions from question templates\n",
    "    for template in question_templates:\n",
    "        question = template.replace(\"[property]\", \"content\").replace(\"[subject]\", page_title)\n",
    "        question = question.replace(\"[domain/field]\", \"[domain/field_placeholder]\")\n",
    "        question = question.replace(\"[region/country]\", \"[region/country_placeholder]\")\n",
    "        question = question.replace(\"[industry/sector]\", \"[industry/sector_placeholder]\")\n",
    "        prompts.append(question)\n",
    "        \n",
    "        # Add additional variations to the questions\n",
    "        variations = [\n",
    "            question.replace(\"[domain/field_placeholder]\", \"history\").replace(\"[region/country_placeholder]\", \"India\").replace(\"[industry/sector_placeholder]\", \"telecommunications\"),\n",
    "            question.replace(\"[domain/field_placeholder]\", \"culture\").replace(\"[region/country_placeholder]\", \"South America\").replace(\"[industry/sector_placeholder]\", \"entertainment\"),\n",
    "            question.replace(\"[domain/field_placeholder]\", \"culture\").replace(\"[region/country_placeholder]\", \"South America\").replace(\"[industry/sector_placeholder]\", \"entertainment\"),\n",
    "        ]\n",
    "        prompts.extend(variations)\n",
    "    \n",
    "    return prompts"
   ]
  },
  {
   "cell_type": "code",
   "execution_count": 17,
   "metadata": {},
   "outputs": [
    {
     "name": "stdout",
     "output_type": "stream",
     "text": [
      "Explain the cultural heritage and traditions of USA.\n",
      "Describe the political system and governance in USA.\n",
      "Discuss the major historical events that shaped USA's identity.\n",
      "Explain the impact of religion and spirituality in USA society.\n",
      "Discuss the diversity of languages and regional cultures in USA.\n",
      "Describe the contributions ofUSA to science, mathematics, and philosophy.\n",
      "Explain the economic growth and development of USA in recent decades.\n",
      "Discuss the social issues and challenges faced by contemporary USA.\n",
      "Describe the geographical features and natural beauty of USA.\n",
      "Explain the significance of festivals and celebrations in USA culture.\n",
      "What are the main religions practiced in USA?\n",
      "How has USA cuisine influenced global culinary traditions?\n",
      "What are some famous historical monuments and landmarks in USA?\n",
      "How does the caste system impact USA society?\n",
      "What are the major industries and sectors driving the USA economy?\n",
      "What are the different forms of traditional USA performing arts?\n",
      "What are the main tourist attractions in different regions of USA?\n",
      "How does the education system function in USA?\n",
      "What are the current environmental challenges faced by USA?\n",
      "What is the role of Hollywood in USA cinema?\n"
     ]
    }
   ],
   "source": [
    "page_title = \"USA\"\n",
    "self_instruct_data = prompts\n",
    "# Display the generated self-instruct prompts and questions\n",
    "for prompt in self_instruct_data:\n",
    "    print(prompt)"
   ]
  },
  {
   "cell_type": "code",
   "execution_count": 12,
   "metadata": {},
   "outputs": [],
   "source": [
    "from transformers import T5Tokenizer, T5ForConditionalGeneration\n",
    "# Instantiate the model and tokenizer\n",
    "model_name = \"google/flan-t5-base\"\n",
    "tokenizer = T5Tokenizer.from_pretrained(model_name)\n",
    "model = T5ForConditionalGeneration.from_pretrained(model_name)"
   ]
  },
  {
   "cell_type": "code",
   "execution_count": 18,
   "metadata": {},
   "outputs": [
    {
     "name": "stdout",
     "output_type": "stream",
     "text": [
      "Prompt: Explain the cultural heritage and traditions of USA.\n",
      "Response: \n",
      "--------------------------------------\n",
      "Prompt: Describe the political system and governance in USA.\n",
      "Response: \n",
      "--------------------------------------\n",
      "Prompt: Discuss the major historical events that shaped USA's identity.\n",
      "Response: \n",
      "--------------------------------------\n",
      "Prompt: Explain the impact of religion and spirituality in USA society.\n",
      "Response: \n",
      "--------------------------------------\n",
      "Prompt: Discuss the diversity of languages and regional cultures in USA.\n",
      "Response: \n",
      "--------------------------------------\n",
      "Prompt: Describe the contributions ofUSA to science, mathematics, and philosophy.\n",
      "Response: . a. a. a. a. a. a. a. a. a. a. a. a. a. a. a. a. a. a. a. a. a. a. a. a. a. a. a. a.\n",
      "--------------------------------------\n",
      "Prompt: Explain the economic growth and development of USA in recent decades.\n",
      "Response: last decade, and the economy has been growing at a rapid pace.\n",
      "--------------------------------------\n",
      "Prompt: Discuss the social issues and challenges faced by contemporary USA.\n",
      "Response: of economic and political instability.\n",
      "--------------------------------------\n",
      "Prompt: Describe the geographical features and natural beauty of USA.\n",
      "Response: \n",
      "--------------------------------------\n",
      "Prompt: Explain the significance of festivals and celebrations in USA culture.\n",
      "Response: season\n",
      "--------------------------------------\n",
      "Prompt: What are the main religions practiced in USA?\n",
      "Response: \n",
      "--------------------------------------\n",
      "Prompt: How has USA cuisine influenced global culinary traditions?\n",
      "Response: \n",
      "--------------------------------------\n",
      "Prompt: What are some famous historical monuments and landmarks in USA?\n",
      "Response: \n",
      "--------------------------------------\n",
      "Prompt: How does the caste system impact USA society?\n",
      "Response: in the development of the United States.\n",
      "--------------------------------------\n",
      "Prompt: What are the major industries and sectors driving the USA economy?\n",
      "Response: \n",
      "--------------------------------------\n",
      "Prompt: What are the different forms of traditional USA performing arts?\n",
      "Response: \n",
      "--------------------------------------\n",
      "Prompt: What are the main tourist attractions in different regions of USA?\n",
      "Response: california california california california california california california california california california california california california california californ\n",
      "--------------------------------------\n",
      "Prompt: How does the education system function in USA?\n",
      "Response: based on the education of the population\n",
      "--------------------------------------\n",
      "Prompt: What are the current environmental challenges faced by USA?\n",
      "Response: \n",
      "--------------------------------------\n",
      "Prompt: What is the role of Hollywood in USA cinema?\n",
      "Response: \n",
      "--------------------------------------\n"
     ]
    }
   ],
   "source": [
    "# Set up the conversation\n",
    "conversation = []\n",
    "\n",
    "# Generate responses for each prompt/question\n",
    "for prompt in self_instruct_data:\n",
    "  inputs = tokenizer.encode(prompt + '\\n', return_tensors='pt')\n",
    "  outputs = model.generate(inputs, max_length=100)\n",
    "  response = tokenizer.decode(outputs[:, inputs.shape[-1]:][0], skip_special_tokens=True)\n",
    "  \n",
    "  # Append the prompt and response to the conversation\n",
    "  conversation.append(prompt)\n",
    "  conversation.append(response)\n",
    "  \n",
    "  # Print the response for evaluation\n",
    "  print(\"Prompt:\", prompt)\n",
    "  print(\"Response:\", response)\n",
    "  print(\"--------------------------------------\")"
   ]
  }
 ],
 "metadata": {
  "kernelspec": {
   "display_name": "Advanced-DS-Seminar",
   "language": "python",
   "name": "python3"
  },
  "language_info": {
   "codemirror_mode": {
    "name": "ipython",
    "version": 3
   },
   "file_extension": ".py",
   "mimetype": "text/x-python",
   "name": "python",
   "nbconvert_exporter": "python",
   "pygments_lexer": "ipython3",
   "version": "3.9.16"
  },
  "orig_nbformat": 4
 },
 "nbformat": 4,
 "nbformat_minor": 2
}
