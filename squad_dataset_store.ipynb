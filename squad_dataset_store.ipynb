{
 "cells": [
  {
   "cell_type": "code",
   "execution_count": 3,
   "metadata": {},
   "outputs": [],
   "source": [
    "from datasets import load_dataset\n",
    "import json"
   ]
  },
  {
   "cell_type": "code",
   "execution_count": 2,
   "metadata": {},
   "outputs": [
    {
     "name": "stderr",
     "output_type": "stream",
     "text": [
      "Downloading builder script: 100%|██████████| 5.27k/5.27k [00:00<00:00, 12.7MB/s]\n",
      "Downloading metadata: 100%|██████████| 2.36k/2.36k [00:00<00:00, 15.8MB/s]\n",
      "Downloading readme: 100%|██████████| 7.67k/7.67k [00:00<00:00, 9.79MB/s]\n",
      "Found cached dataset squad (/Users/prathameshkulkarni/.cache/huggingface/datasets/squad/plain_text/1.0.0/d6ec3ceb99ca480ce37cdd35555d6cb2511d223b9150cce08a837ef62ffea453)\n"
     ]
    }
   ],
   "source": [
    "dataset = load_dataset('squad', split='train')"
   ]
  },
  {
   "cell_type": "code",
   "execution_count": 4,
   "metadata": {},
   "outputs": [],
   "source": [
    "# Write the downloaded dataset to jsonl file\n",
    "\n",
    "with open('squad_dataset.jsonl', 'w') as f:\n",
    "  for i in range(len(dataset)):\n",
    "    f.write(json.dumps(dataset[i]))\n",
    "    f.write('\\n')"
   ]
  }
 ],
 "metadata": {
  "kernelspec": {
   "display_name": "Advanced-DS-Seminar",
   "language": "python",
   "name": "python3"
  },
  "language_info": {
   "codemirror_mode": {
    "name": "ipython",
    "version": 3
   },
   "file_extension": ".py",
   "mimetype": "text/x-python",
   "name": "python",
   "nbconvert_exporter": "python",
   "pygments_lexer": "ipython3",
   "version": "3.9.17"
  },
  "orig_nbformat": 4
 },
 "nbformat": 4,
 "nbformat_minor": 2
}
